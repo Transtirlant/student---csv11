{
  "cells": [
    {
      "cell_type": "markdown",
      "metadata": {
        "id": "view-in-github",
        "colab_type": "text"
      },
      "source": [
        "<a href=\"https://colab.research.google.com/github/Transtirlant/student---csv11/blob/main/ch00.ipynb\" target=\"_parent\"><img src=\"https://colab.research.google.com/assets/colab-badge.svg\" alt=\"Open In Colab\"/></a>"
      ]
    },
    {
      "cell_type": "markdown",
      "metadata": {
        "id": "aU2RBaM2Mcde"
      },
      "source": [
        "# <p style=\"font-family: Arial; font-size:1.4em;color:gold;\"> Jupyter Notebook </p>\n",
        "<img src=\"https://miro.medium.com/v2/resize:fit:1400/1*RzxZF0mmXAsMLrIzAWYDSg.png\" alt=\"Drawing\" style=\"width: 400px;\"/>"
      ]
    },
    {
      "cell_type": "markdown",
      "metadata": {
        "id": "ZBD-8039Mcdg"
      },
      "source": [
        "# Task 1. Complete the following code and run it.\n"
      ]
    },
    {
      "cell_type": "markdown",
      "metadata": {
        "id": "RoV-FchgMcdg"
      },
      "source": [
        "### Please run the below code by clicking the small \"play\" button on the left of the cell"
      ]
    },
    {
      "cell_type": "code",
      "execution_count": 2,
      "metadata": {
        "colab": {
          "base_uri": "https://localhost:8080/"
        },
        "id": "pB34B_mnMcdg",
        "outputId": "c9d47009-ad2f-4d7e-c632-1fba77c684e7"
      },
      "outputs": [
        {
          "output_type": "stream",
          "name": "stdout",
          "text": [
            "Hello Wolrd\n"
          ]
        }
      ],
      "source": [
        "print ('Hello Wolrd')"
      ]
    },
    {
      "cell_type": "markdown",
      "metadata": {
        "id": "uuiOIp97Mcdi"
      },
      "source": [
        "### SAVE this file(ctrl-s) At this moment"
      ]
    },
    {
      "cell_type": "markdown",
      "metadata": {
        "id": "TsfB5XxeMcdi"
      },
      "source": [
        "# Task 2. Complete the following instructions"
      ]
    },
    {
      "cell_type": "markdown",
      "metadata": {
        "id": "U_iPdUA7Mcdi"
      },
      "source": [
        "### Press \"ESC\"\n",
        "### Create a \"Code Cell\" by typing \"b\"\n",
        "### Make the same code to print \"Hello World\"\n",
        "### Run it\n",
        "### Try to move the cell by \"alt - up / down\" in VS Code or \"Ctrl-M J/K\" in Google Colab"
      ]
    },
    {
      "cell_type": "markdown",
      "metadata": {
        "id": "my4fRCLtMcdi"
      },
      "source": [
        "### SAVE this file(ctrl-s) At this moment"
      ]
    },
    {
      "cell_type": "code",
      "source": [
        "print(\"Hello World\")"
      ],
      "metadata": {
        "id": "hkyamB_8M11f",
        "outputId": "3a2f1b32-6203-46a6-b6c8-03c118954478",
        "colab": {
          "base_uri": "https://localhost:8080/"
        }
      },
      "execution_count": 3,
      "outputs": [
        {
          "output_type": "stream",
          "name": "stdout",
          "text": [
            "Hello World\n"
          ]
        }
      ]
    },
    {
      "cell_type": "markdown",
      "metadata": {
        "id": "8l2U_fT-Mcdi"
      },
      "source": [
        "\n",
        "# Task 3\n",
        "### Create a \"Markdown Cell\"\n",
        "### Add a image in your \"Markdown Cell\" (Refer to the 1st Cell in this notebook file)"
      ]
    },
    {
      "cell_type": "markdown",
      "metadata": {
        "id": "n1_KzlXWMcdi"
      },
      "source": [
        "### SAVE this file(ctrl-s) At this moment"
      ]
    },
    {
      "cell_type": "markdown",
      "metadata": {
        "id": "qmUznL6wMcdj"
      },
      "source": [
        "### Make sure that you should have \"SAVE\" this file at least 3 times.\n",
        "### \"SAVE(ctrl-s)\" will make a snapshot in the Revision History"
      ]
    }
  ],
  "metadata": {
    "kernelspec": {
      "display_name": "base",
      "language": "python",
      "name": "python3"
    },
    "language_info": {
      "codemirror_mode": {
        "name": "ipython",
        "version": 3
      },
      "file_extension": ".py",
      "mimetype": "text/x-python",
      "name": "python",
      "nbconvert_exporter": "python",
      "pygments_lexer": "ipython3",
      "version": "3.9.17"
    },
    "colab": {
      "provenance": [],
      "include_colab_link": true
    }
  },
  "nbformat": 4,
  "nbformat_minor": 0
}